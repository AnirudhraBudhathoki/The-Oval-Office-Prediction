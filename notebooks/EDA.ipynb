{
 "cells": [
  {
   "cell_type": "code",
   "execution_count": 1,
   "id": "742f6921",
   "metadata": {},
   "outputs": [],
   "source": [
    "import pandas as pd"
   ]
  },
  {
   "cell_type": "code",
   "execution_count": 2,
   "id": "b6ae4dad",
   "metadata": {},
   "outputs": [
    {
     "name": "stdout",
     "output_type": "stream",
     "text": [
      "(5573130, 18)\n"
     ]
    }
   ],
   "source": [
    "# Initialize an empty DataFrame to collect chunks\n",
    "df_chunks = []\n",
    "\n",
    "# Load the data in chunks\n",
    "for chunk in pd.read_csv('combined_data.csv', chunksize=2000):\n",
    "    df_chunks.append(chunk)\n",
    "\n",
    "# Concatenate all chunks into a single DataFrame\n",
    "df = pd.concat(df_chunks, ignore_index=True)\n",
    "\n",
    "print(df.shape)"
   ]
  },
  {
   "cell_type": "code",
   "execution_count": 3,
   "id": "2cbd9a28",
   "metadata": {},
   "outputs": [
    {
     "name": "stdout",
     "output_type": "stream",
     "text": [
      "   Gender                           Race VeteranStatus    DisabilityStatus  \\\n",
      "0  Female  American Indian/Alaska Native   Not Veteran  Without Disability   \n",
      "1  Female  American Indian/Alaska Native   Not Veteran  Without Disability   \n",
      "2  Female  American Indian/Alaska Native   Not Veteran  Without Disability   \n",
      "3  Female  American Indian/Alaska Native   Not Veteran  Without Disability   \n",
      "4  Female                          Asian   Not Veteran  Without Disability   \n",
      "\n",
      "  EmploymentStatus          IndustrySector OccupancyStatus    MortgageStatus  \\\n",
      "0         Employed  Arts and Entertainment  Owner-occupied     With Mortgage   \n",
      "1         Employed           Manufacturing  Owner-occupied     With Mortgage   \n",
      "2         Employed          Other Services  Owner-occupied     With Mortgage   \n",
      "3         Employed   Public Administration  Owner-occupied  Without Mortgage   \n",
      "4         Employed             Agriculture  Owner-occupied     With Mortgage   \n",
      "\n",
      "  TotalHouseholdIncome         HealthCoverage  \\\n",
      "0      $75,000-$99,999  With Health Insurance   \n",
      "1      $75,000-$99,999  With Health Insurance   \n",
      "2    $100,000-$149,999  With Health Insurance   \n",
      "3    $100,000-$149,999  With Health Insurance   \n",
      "4      $50,000-$74,999  With Health Insurance   \n",
      "\n",
      "             HighestEducationLevel  Count          State LeadingParty  \\\n",
      "0          Some college, no degree      1  Massachusetts     Democrat   \n",
      "1  Graduate or professional degree      1  Massachusetts     Democrat   \n",
      "2  Graduate or professional degree      1  Massachusetts     Democrat   \n",
      "3          Some college, no degree      1  Massachusetts     Democrat   \n",
      "4             High school graduate      1  Massachusetts     Democrat   \n",
      "\n",
      "   LeadSum    LeadAvg TargetParty  TargetVotes  \n",
      "0      314  24.153846  Democratic   13565788.0  \n",
      "1      314  24.153846  Democratic   13565788.0  \n",
      "2      314  24.153846  Democratic   13565788.0  \n",
      "3      314  24.153846  Democratic   13565788.0  \n",
      "4      314  24.153846  Democratic   13565788.0  \n"
     ]
    }
   ],
   "source": [
    "print(df.head())"
   ]
  },
  {
   "cell_type": "code",
   "execution_count": 4,
   "id": "3bcf47a7",
   "metadata": {},
   "outputs": [
    {
     "name": "stdout",
     "output_type": "stream",
     "text": [
      "Columns in the DataFrame: Index(['Gender', 'Race', 'VeteranStatus', 'DisabilityStatus',\n",
      "       'EmploymentStatus', 'IndustrySector', 'OccupancyStatus',\n",
      "       'MortgageStatus', 'TotalHouseholdIncome', 'HealthCoverage',\n",
      "       'HighestEducationLevel', 'Count', 'State', 'LeadingParty', 'LeadSum',\n",
      "       'LeadAvg', 'TargetParty', 'TargetVotes'],\n",
      "      dtype='object')\n"
     ]
    }
   ],
   "source": [
    "print(\"Columns in the DataFrame:\", df.columns)\n"
   ]
  },
  {
   "cell_type": "code",
   "execution_count": 5,
   "id": "a9bec8be",
   "metadata": {},
   "outputs": [
    {
     "name": "stdout",
     "output_type": "stream",
     "text": [
      "Number of null values in each column:\n",
      "Gender                   0\n",
      "Race                     0\n",
      "VeteranStatus            0\n",
      "DisabilityStatus         0\n",
      "EmploymentStatus         0\n",
      "IndustrySector           0\n",
      "OccupancyStatus          0\n",
      "MortgageStatus           0\n",
      "TotalHouseholdIncome     0\n",
      "HealthCoverage           0\n",
      "HighestEducationLevel    0\n",
      "Count                    0\n",
      "State                    0\n",
      "LeadingParty             0\n",
      "LeadSum                  0\n",
      "LeadAvg                  0\n",
      "TargetParty              0\n",
      "TargetVotes              0\n",
      "dtype: int64\n"
     ]
    }
   ],
   "source": [
    "print(\"Number of null values in each column:\")\n",
    "print(df.isnull().sum())\n"
   ]
  },
  {
   "cell_type": "code",
   "execution_count": 6,
   "id": "04c06dac",
   "metadata": {},
   "outputs": [
    {
     "name": "stdout",
     "output_type": "stream",
     "text": [
      "Descriptive statistics:\n",
      "         Gender     Race VeteranStatus    DisabilityStatus EmploymentStatus  \\\n",
      "count   5573130  5573130       5573130             5573130          5573130   \n",
      "unique        2        7             1                   1                1   \n",
      "top      Female    White   Not Veteran  Without Disability         Employed   \n",
      "freq    2806378  3506340       5573130             5573130          5573130   \n",
      "mean        NaN      NaN           NaN                 NaN              NaN   \n",
      "std         NaN      NaN           NaN                 NaN              NaN   \n",
      "min         NaN      NaN           NaN                 NaN              NaN   \n",
      "25%         NaN      NaN           NaN                 NaN              NaN   \n",
      "50%         NaN      NaN           NaN                 NaN              NaN   \n",
      "75%         NaN      NaN           NaN                 NaN              NaN   \n",
      "max         NaN      NaN           NaN                 NaN              NaN   \n",
      "\n",
      "                  IndustrySector OccupancyStatus MortgageStatus  \\\n",
      "count                    5573130         5573130        5573130   \n",
      "unique                        13               1              2   \n",
      "top     Education and Healthcare  Owner-occupied  With Mortgage   \n",
      "freq                      954905         5573130        3159786   \n",
      "mean                         NaN             NaN            NaN   \n",
      "std                          NaN             NaN            NaN   \n",
      "min                          NaN             NaN            NaN   \n",
      "25%                          NaN             NaN            NaN   \n",
      "50%                          NaN             NaN            NaN   \n",
      "75%                          NaN             NaN            NaN   \n",
      "max                          NaN             NaN            NaN   \n",
      "\n",
      "       TotalHouseholdIncome         HealthCoverage HighestEducationLevel  \\\n",
      "count               5573130                5573130               5573130   \n",
      "unique                   10                      2                     7   \n",
      "top         $50,000-$74,999  With Health Insurance  High school graduate   \n",
      "freq                 961630                5315063               1423864   \n",
      "mean                    NaN                    NaN                   NaN   \n",
      "std                     NaN                    NaN                   NaN   \n",
      "min                     NaN                    NaN                   NaN   \n",
      "25%                     NaN                    NaN                   NaN   \n",
      "50%                     NaN                    NaN                   NaN   \n",
      "75%                     NaN                    NaN                   NaN   \n",
      "max                     NaN                    NaN                   NaN   \n",
      "\n",
      "               Count     State LeadingParty       LeadSum       LeadAvg  \\\n",
      "count   5.573130e+06   5573130      5573130  5.573130e+06  5.573130e+06   \n",
      "unique           NaN        10            2           NaN           NaN   \n",
      "top              NaN  Michigan   Republican           NaN           NaN   \n",
      "freq             NaN   1499372      3214820           NaN           NaN   \n",
      "mean    1.572970e+00       NaN          NaN  2.989757e+02  1.206639e+01   \n",
      "std     1.520367e+00       NaN          NaN  1.944649e+02  8.377576e+00   \n",
      "min     1.000000e+00       NaN          NaN  1.300000e+01  3.103261e+00   \n",
      "25%     1.000000e+00       NaN          NaN  1.250000e+02  3.103261e+00   \n",
      "50%     1.000000e+00       NaN          NaN  3.140000e+02  1.244444e+01   \n",
      "75%     2.000000e+00       NaN          NaN  5.710000e+02  2.415385e+01   \n",
      "max     1.510000e+02       NaN          NaN  5.710000e+02  2.415385e+01   \n",
      "\n",
      "       TargetParty   TargetVotes  \n",
      "count      5573130  5.573130e+06  \n",
      "unique           2           NaN  \n",
      "top     Democratic           NaN  \n",
      "freq       3123790           NaN  \n",
      "mean           NaN  1.031327e+07  \n",
      "std            NaN  4.293264e+06  \n",
      "min            NaN  2.440010e+05  \n",
      "25%            NaN  5.964602e+06  \n",
      "50%            NaN  1.356579e+07  \n",
      "75%            NaN  1.407662e+07  \n",
      "max            NaN  1.407662e+07  \n"
     ]
    }
   ],
   "source": [
    "print(\"Descriptive statistics:\")\n",
    "print(df.describe(include='all'))  # Include all columns (numerical and categorical)\n"
   ]
  },
  {
   "cell_type": "code",
   "execution_count": 7,
   "id": "69ccedee",
   "metadata": {},
   "outputs": [
    {
     "name": "stdout",
     "output_type": "stream",
     "text": [
      "Number of duplicate rows: 5298935\n",
      "Percentage of duplicate rows: 95.08%\n"
     ]
    }
   ],
   "source": [
    "import pandas as pd\n",
    "\n",
    "# Assuming df is your DataFrame\n",
    "def check_duplicates(df):\n",
    "    # Count the number of duplicate rows\n",
    "    num_duplicates = df.duplicated().sum()\n",
    "    \n",
    "    # Calculate the percentage of duplicate rows\n",
    "    percentage_duplicates = (num_duplicates / len(df)) * 100\n",
    "    \n",
    "    # Print the results\n",
    "    print(f\"Number of duplicate rows: {num_duplicates}\")\n",
    "    print(f\"Percentage of duplicate rows: {percentage_duplicates:.2f}%\")\n",
    "    \n",
    "# Call the function\n",
    "check_duplicates(df)\n"
   ]
  },
  {
   "cell_type": "code",
   "execution_count": 8,
   "id": "9601a36d",
   "metadata": {},
   "outputs": [
    {
     "name": "stdout",
     "output_type": "stream",
     "text": [
      "(14810144, 18)\n"
     ]
    }
   ],
   "source": [
    "# Initialize an empty DataFrame to collect chunks\n",
    "df_chunks = []\n",
    "\n",
    "# Load the data in chunks\n",
    "for chunk in pd.read_csv('combined_data2.csv', chunksize=2000):\n",
    "    df_chunks.append(chunk)\n",
    "\n",
    "# Concatenate all chunks into a single DataFrame\n",
    "df2 = pd.concat(df_chunks, ignore_index=True)\n",
    "\n",
    "print(df2.shape)"
   ]
  },
  {
   "cell_type": "code",
   "execution_count": 9,
   "id": "0d5e2334",
   "metadata": {},
   "outputs": [
    {
     "name": "stdout",
     "output_type": "stream",
     "text": [
      "   Gender                           Race VeteranStatus    DisabilityStatus  \\\n",
      "0  Female  American Indian/Alaska Native   Not Veteran  Without Disability   \n",
      "1  Female  American Indian/Alaska Native   Not Veteran  Without Disability   \n",
      "2  Female  American Indian/Alaska Native   Not Veteran  Without Disability   \n",
      "3  Female  American Indian/Alaska Native   Not Veteran  Without Disability   \n",
      "4  Female  American Indian/Alaska Native   Not Veteran  Without Disability   \n",
      "\n",
      "  EmploymentStatus            IndustrySector OccupancyStatus  \\\n",
      "0         Employed              Construction  Owner-occupied   \n",
      "1         Employed  Education and Healthcare  Owner-occupied   \n",
      "2         Employed  Education and Healthcare  Owner-occupied   \n",
      "3         Employed  Education and Healthcare  Owner-occupied   \n",
      "4         Employed             Manufacturing  Owner-occupied   \n",
      "\n",
      "     MortgageStatus TotalHouseholdIncome         HealthCoverage  \\\n",
      "0  Without Mortgage      $25,000-$34,999  With Health Insurance   \n",
      "1     With Mortgage      $35,000-$49,999  With Health Insurance   \n",
      "2     With Mortgage      $75,000-$99,999  With Health Insurance   \n",
      "3     With Mortgage    Less than $10,000  With Health Insurance   \n",
      "4     With Mortgage    $100,000-$149,999  With Health Insurance   \n",
      "\n",
      "     HighestEducationLevel  Count    State LeadingParty  LeadSum  LeadAvg  \\\n",
      "0     High school graduate      1  Alabama   Republican       63     21.0   \n",
      "1  Some college, no degree      1  Alabama   Republican       63     21.0   \n",
      "2  Some college, no degree      1  Alabama   Republican       63     21.0   \n",
      "3     High school graduate      1  Alabama   Republican       63     21.0   \n",
      "4     High school graduate      1  Alabama   Republican       63     21.0   \n",
      "\n",
      "  TargetParty  TargetVotes  \n",
      "0  Republican   10680498.0  \n",
      "1  Republican   10680498.0  \n",
      "2  Republican   10680498.0  \n",
      "3  Republican   10680498.0  \n",
      "4  Republican   10680498.0  \n"
     ]
    }
   ],
   "source": [
    "print(df2.head())"
   ]
  },
  {
   "cell_type": "code",
   "execution_count": 10,
   "id": "35478f16",
   "metadata": {},
   "outputs": [
    {
     "name": "stdout",
     "output_type": "stream",
     "text": [
      "Columns in the DataFrame: Index(['Gender', 'Race', 'VeteranStatus', 'DisabilityStatus',\n",
      "       'EmploymentStatus', 'IndustrySector', 'OccupancyStatus',\n",
      "       'MortgageStatus', 'TotalHouseholdIncome', 'HealthCoverage',\n",
      "       'HighestEducationLevel', 'Count', 'State', 'LeadingParty', 'LeadSum',\n",
      "       'LeadAvg', 'TargetParty', 'TargetVotes'],\n",
      "      dtype='object')\n"
     ]
    }
   ],
   "source": [
    "print(\"Columns in the DataFrame:\", df2.columns)"
   ]
  },
  {
   "cell_type": "code",
   "execution_count": 11,
   "id": "03faa6e2",
   "metadata": {},
   "outputs": [
    {
     "name": "stdout",
     "output_type": "stream",
     "text": [
      "Number of null values in each column:\n",
      "Gender                   0\n",
      "Race                     0\n",
      "VeteranStatus            0\n",
      "DisabilityStatus         0\n",
      "EmploymentStatus         0\n",
      "IndustrySector           0\n",
      "OccupancyStatus          0\n",
      "MortgageStatus           0\n",
      "TotalHouseholdIncome     0\n",
      "HealthCoverage           0\n",
      "HighestEducationLevel    0\n",
      "Count                    0\n",
      "State                    0\n",
      "LeadingParty             0\n",
      "LeadSum                  0\n",
      "LeadAvg                  0\n",
      "TargetParty              0\n",
      "TargetVotes              0\n",
      "dtype: int64\n"
     ]
    }
   ],
   "source": [
    "print(\"Number of null values in each column:\")\n",
    "print(df2.isnull().sum())"
   ]
  },
  {
   "cell_type": "code",
   "execution_count": 12,
   "id": "3addf8a5",
   "metadata": {},
   "outputs": [
    {
     "name": "stdout",
     "output_type": "stream",
     "text": [
      "Descriptive statistics:\n",
      "          Gender      Race VeteranStatus    DisabilityStatus EmploymentStatus  \\\n",
      "count   14810144  14810144      14810144            14810144         14810144   \n",
      "unique         2         7             1                   1                1   \n",
      "top       Female     White   Not Veteran  Without Disability         Employed   \n",
      "freq     7432116   6523374      14810144            14810144         14810144   \n",
      "mean         NaN       NaN           NaN                 NaN              NaN   \n",
      "std          NaN       NaN           NaN                 NaN              NaN   \n",
      "min          NaN       NaN           NaN                 NaN              NaN   \n",
      "25%          NaN       NaN           NaN                 NaN              NaN   \n",
      "50%          NaN       NaN           NaN                 NaN              NaN   \n",
      "75%          NaN       NaN           NaN                 NaN              NaN   \n",
      "max          NaN       NaN           NaN                 NaN              NaN   \n",
      "\n",
      "                  IndustrySector OccupancyStatus MortgageStatus  \\\n",
      "count                   14810144        14810144       14810144   \n",
      "unique                        13               1              2   \n",
      "top     Education and Healthcare  Owner-occupied  With Mortgage   \n",
      "freq                     2817892        14810144        9156278   \n",
      "mean                         NaN             NaN            NaN   \n",
      "std                          NaN             NaN            NaN   \n",
      "min                          NaN             NaN            NaN   \n",
      "25%                          NaN             NaN            NaN   \n",
      "50%                          NaN             NaN            NaN   \n",
      "75%                          NaN             NaN            NaN   \n",
      "max                          NaN             NaN            NaN   \n",
      "\n",
      "       TotalHouseholdIncome         HealthCoverage HighestEducationLevel  \\\n",
      "count              14810144               14810144              14810144   \n",
      "unique                   10                      2                     7   \n",
      "top        $200,000 or more  With Health Insurance  High school graduate   \n",
      "freq                3316009               14243951               3517266   \n",
      "mean                    NaN                    NaN                   NaN   \n",
      "std                     NaN                    NaN                   NaN   \n",
      "min                     NaN                    NaN                   NaN   \n",
      "25%                     NaN                    NaN                   NaN   \n",
      "50%                     NaN                    NaN                   NaN   \n",
      "75%                     NaN                    NaN                   NaN   \n",
      "max                     NaN                    NaN                   NaN   \n",
      "\n",
      "               Count       State LeadingParty       LeadSum       LeadAvg  \\\n",
      "count   1.481014e+07    14810144     14810144  1.481014e+07  1.481014e+07   \n",
      "unique           NaN          10            2           NaN           NaN   \n",
      "top              NaN  California     Democrat           NaN           NaN   \n",
      "freq             NaN     7676678     10184488           NaN           NaN   \n",
      "mean    1.278726e+00         NaN          NaN  5.113630e+02  1.601956e+01   \n",
      "std     8.432162e-01         NaN          NaN  3.339559e+02  6.583378e+00   \n",
      "min     1.000000e+00         NaN          NaN  1.800000e+01  4.166667e+00   \n",
      "25%     1.000000e+00         NaN          NaN  8.500000e+01  9.000000e+00   \n",
      "50%     1.000000e+00         NaN          NaN  7.730000e+02  2.089189e+01   \n",
      "75%     1.000000e+00         NaN          NaN  7.730000e+02  2.089189e+01   \n",
      "max     1.100000e+02         NaN          NaN  7.730000e+02  2.100000e+01   \n",
      "\n",
      "       TargetParty   TargetVotes  \n",
      "count     14810144  1.481014e+07  \n",
      "unique           2           NaN  \n",
      "top     Democratic           NaN  \n",
      "freq       8557728           NaN  \n",
      "mean           NaN  9.597668e+07  \n",
      "std            NaN  8.456802e+07  \n",
      "min            NaN  8.245490e+05  \n",
      "25%            NaN  8.898921e+06  \n",
      "50%            NaN  1.773909e+08  \n",
      "75%            NaN  1.773909e+08  \n",
      "max            NaN  1.773909e+08  \n"
     ]
    }
   ],
   "source": [
    "print(\"Descriptive statistics:\")\n",
    "print(df2.describe(include='all'))  # Include all columns (numerical and categorical)"
   ]
  },
  {
   "cell_type": "code",
   "execution_count": 13,
   "id": "a1bf3d03",
   "metadata": {},
   "outputs": [
    {
     "name": "stdout",
     "output_type": "stream",
     "text": [
      "Number of duplicate rows: 14519792\n",
      "Percentage of duplicate rows: 98.04%\n"
     ]
    }
   ],
   "source": [
    "import pandas as pd\n",
    "\n",
    "# Assuming df is your DataFrame\n",
    "def check_duplicates(df2):\n",
    "    # Count the number of duplicate rows\n",
    "    num_duplicates = df2.duplicated().sum()\n",
    "    \n",
    "    # Calculate the percentage of duplicate rows\n",
    "    percentage_duplicates = (num_duplicates / len(df2)) * 100\n",
    "    \n",
    "    # Print the results\n",
    "    print(f\"Number of duplicate rows: {num_duplicates}\")\n",
    "    print(f\"Percentage of duplicate rows: {percentage_duplicates:.2f}%\")\n",
    "    \n",
    "# Call the function\n",
    "check_duplicates(df2)\n"
   ]
  },
  {
   "cell_type": "code",
   "execution_count": 14,
   "id": "1b73a154",
   "metadata": {},
   "outputs": [
    {
     "name": "stdout",
     "output_type": "stream",
     "text": [
      "(11540078, 18)\n"
     ]
    }
   ],
   "source": [
    "# Initialize an empty DataFrame to collect chunks\n",
    "df_chunks = []\n",
    "\n",
    "# Load the data in chunks\n",
    "for chunk in pd.read_csv('combined_data3.csv', chunksize=2000):\n",
    "    df_chunks.append(chunk)\n",
    "\n",
    "# Concatenate all chunks into a single DataFrame\n",
    "df3 = pd.concat(df_chunks, ignore_index=True)\n",
    "\n",
    "print(df3.shape)"
   ]
  },
  {
   "cell_type": "code",
   "execution_count": 15,
   "id": "929d35c6",
   "metadata": {},
   "outputs": [
    {
     "name": "stdout",
     "output_type": "stream",
     "text": [
      "   Gender                           Race VeteranStatus    DisabilityStatus  \\\n",
      "0  Female  American Indian/Alaska Native   Not Veteran  Without Disability   \n",
      "1  Female  American Indian/Alaska Native   Not Veteran  Without Disability   \n",
      "2  Female  American Indian/Alaska Native   Not Veteran  Without Disability   \n",
      "3  Female  American Indian/Alaska Native   Not Veteran  Without Disability   \n",
      "4  Female  American Indian/Alaska Native   Not Veteran  Without Disability   \n",
      "\n",
      "  EmploymentStatus IndustrySector OccupancyStatus MortgageStatus  \\\n",
      "0         Employed    Agriculture  Owner-occupied  With Mortgage   \n",
      "1         Employed    Agriculture  Owner-occupied  With Mortgage   \n",
      "2         Employed    Agriculture  Owner-occupied  With Mortgage   \n",
      "3         Employed    Agriculture  Owner-occupied  With Mortgage   \n",
      "4         Employed    Agriculture  Owner-occupied  With Mortgage   \n",
      "\n",
      "  TotalHouseholdIncome         HealthCoverage    HighestEducationLevel  Count  \\\n",
      "0    $100,000-$149,999  With Health Insurance     High school graduate      1   \n",
      "1      $35,000-$49,999    No Health Insurance     High school graduate      2   \n",
      "2      $50,000-$74,999  With Health Insurance     High school graduate      1   \n",
      "3      $50,000-$74,999  With Health Insurance  Some college, no degree      1   \n",
      "4      $75,000-$99,999  With Health Insurance       Associate's degree      1   \n",
      "\n",
      "       State LeadingParty  LeadSum   LeadAvg TargetParty  TargetVotes  \n",
      "0  NewMexico     Democrat       71  6.454545  Democratic    7747612.0  \n",
      "1  NewMexico     Democrat       71  6.454545  Democratic    7747612.0  \n",
      "2  NewMexico     Democrat       71  6.454545  Democratic    7747612.0  \n",
      "3  NewMexico     Democrat       71  6.454545  Democratic    7747612.0  \n",
      "4  NewMexico     Democrat       71  6.454545  Democratic    7747612.0  \n"
     ]
    }
   ],
   "source": [
    "print(df3.head())"
   ]
  },
  {
   "cell_type": "code",
   "execution_count": 16,
   "id": "ddbf7304",
   "metadata": {},
   "outputs": [
    {
     "name": "stdout",
     "output_type": "stream",
     "text": [
      "Columns in the DataFrame: Index(['Gender', 'Race', 'VeteranStatus', 'DisabilityStatus',\n",
      "       'EmploymentStatus', 'IndustrySector', 'OccupancyStatus',\n",
      "       'MortgageStatus', 'TotalHouseholdIncome', 'HealthCoverage',\n",
      "       'HighestEducationLevel', 'Count', 'State', 'LeadingParty', 'LeadSum',\n",
      "       'LeadAvg', 'TargetParty', 'TargetVotes'],\n",
      "      dtype='object')\n"
     ]
    }
   ],
   "source": [
    "print(\"Columns in the DataFrame:\", df3.columns)"
   ]
  },
  {
   "cell_type": "code",
   "execution_count": 17,
   "id": "48c8c0ae",
   "metadata": {},
   "outputs": [
    {
     "name": "stdout",
     "output_type": "stream",
     "text": [
      "Number of null values in each column:\n",
      "Gender                   0\n",
      "Race                     0\n",
      "VeteranStatus            0\n",
      "DisabilityStatus         0\n",
      "EmploymentStatus         0\n",
      "IndustrySector           0\n",
      "OccupancyStatus          0\n",
      "MortgageStatus           0\n",
      "TotalHouseholdIncome     0\n",
      "HealthCoverage           0\n",
      "HighestEducationLevel    0\n",
      "Count                    0\n",
      "State                    0\n",
      "LeadingParty             0\n",
      "LeadSum                  0\n",
      "LeadAvg                  0\n",
      "TargetParty              0\n",
      "TargetVotes              0\n",
      "dtype: int64\n"
     ]
    }
   ],
   "source": [
    "print(\"Number of null values in each column:\")\n",
    "print(df3.isnull().sum())"
   ]
  },
  {
   "cell_type": "code",
   "execution_count": 18,
   "id": "de43f541",
   "metadata": {},
   "outputs": [
    {
     "name": "stdout",
     "output_type": "stream",
     "text": [
      "Descriptive statistics:\n",
      "          Gender      Race VeteranStatus    DisabilityStatus EmploymentStatus  \\\n",
      "count   11540078  11540078      11540078            11540078         11540078   \n",
      "unique         2         7             1                   1                1   \n",
      "top       Female     White   Not Veteran  Without Disability         Employed   \n",
      "freq     5844499   6856494      11540078            11540078         11540078   \n",
      "mean         NaN       NaN           NaN                 NaN              NaN   \n",
      "std          NaN       NaN           NaN                 NaN              NaN   \n",
      "min          NaN       NaN           NaN                 NaN              NaN   \n",
      "25%          NaN       NaN           NaN                 NaN              NaN   \n",
      "50%          NaN       NaN           NaN                 NaN              NaN   \n",
      "75%          NaN       NaN           NaN                 NaN              NaN   \n",
      "max          NaN       NaN           NaN                 NaN              NaN   \n",
      "\n",
      "                  IndustrySector OccupancyStatus MortgageStatus  \\\n",
      "count                   11540078        11540078       11540078   \n",
      "unique                        13               1              2   \n",
      "top     Education and Healthcare  Owner-occupied  With Mortgage   \n",
      "freq                     2327153        11540078        6421837   \n",
      "mean                         NaN             NaN            NaN   \n",
      "std                          NaN             NaN            NaN   \n",
      "min                          NaN             NaN            NaN   \n",
      "25%                          NaN             NaN            NaN   \n",
      "50%                          NaN             NaN            NaN   \n",
      "75%                          NaN             NaN            NaN   \n",
      "max                          NaN             NaN            NaN   \n",
      "\n",
      "       TotalHouseholdIncome         HealthCoverage HighestEducationLevel  \\\n",
      "count              11540078               11540078              11540078   \n",
      "unique                   10                      2                     7   \n",
      "top         $50,000-$74,999  With Health Insurance  High school graduate   \n",
      "freq                2026902               11054679               3191026   \n",
      "mean                    NaN                    NaN                   NaN   \n",
      "std                     NaN                    NaN                   NaN   \n",
      "min                     NaN                    NaN                   NaN   \n",
      "25%                     NaN                    NaN                   NaN   \n",
      "50%                     NaN                    NaN                   NaN   \n",
      "75%                     NaN                    NaN                   NaN   \n",
      "max                     NaN                    NaN                   NaN   \n",
      "\n",
      "               Count     State LeadingParty       LeadSum       LeadAvg  \\\n",
      "count   1.154008e+07  11540078     11540078  1.154008e+07  1.154008e+07   \n",
      "unique           NaN        10            2           NaN           NaN   \n",
      "top              NaN   NewYork   Republican           NaN           NaN   \n",
      "freq             NaN   2319742      8236356           NaN           NaN   \n",
      "mean    1.412821e+00       NaN          NaN  3.344234e+02  1.031774e+01   \n",
      "std     9.977802e-01       NaN          NaN  2.323816e+02  5.902021e+00   \n",
      "min     1.000000e+00       NaN          NaN  3.300000e+01  3.394231e+00   \n",
      "25%     1.000000e+00       NaN          NaN  1.140000e+02  3.966443e+00   \n",
      "50%     1.000000e+00       NaN          NaN  2.490000e+02  9.228571e+00   \n",
      "75%     1.000000e+00       NaN          NaN  5.910000e+02  1.245000e+01   \n",
      "max     2.300000e+01       NaN          NaN  7.060000e+02  2.280000e+01   \n",
      "\n",
      "       TargetParty   TargetVotes  \n",
      "count     11540078  1.154008e+07  \n",
      "unique           2           NaN  \n",
      "top     Republican           NaN  \n",
      "freq       6409706           NaN  \n",
      "mean           NaN  8.393953e+06  \n",
      "std            NaN  5.414415e+06  \n",
      "min            NaN  1.839474e+06  \n",
      "25%            NaN  4.319677e+06  \n",
      "50%            NaN  5.435118e+06  \n",
      "75%            NaN  1.298067e+07  \n",
      "max            NaN  1.792966e+07  \n"
     ]
    }
   ],
   "source": [
    "print(\"Descriptive statistics:\")\n",
    "print(df3.describe(include='all'))  # Include all columns (numerical and categorical)"
   ]
  },
  {
   "cell_type": "code",
   "execution_count": 19,
   "id": "f95b4a97",
   "metadata": {},
   "outputs": [
    {
     "name": "stdout",
     "output_type": "stream",
     "text": [
      "Number of duplicate rows: 11150821\n",
      "Percentage of duplicate rows: 96.63%\n"
     ]
    }
   ],
   "source": [
    "import pandas as pd\n",
    "\n",
    "# Assuming df is your DataFrame\n",
    "def check_duplicates(df3):\n",
    "    # Count the number of duplicate rows\n",
    "    num_duplicates = df3.duplicated().sum()\n",
    "    \n",
    "    # Calculate the percentage of duplicate rows\n",
    "    percentage_duplicates = (num_duplicates / len(df3)) * 100\n",
    "    \n",
    "    # Print the results\n",
    "    print(f\"Number of duplicate rows: {num_duplicates}\")\n",
    "    print(f\"Percentage of duplicate rows: {percentage_duplicates:.2f}%\")\n",
    "    \n",
    "# Call the function\n",
    "check_duplicates(df3)\n"
   ]
  },
  {
   "cell_type": "code",
   "execution_count": 20,
   "id": "85c312ba",
   "metadata": {},
   "outputs": [
    {
     "name": "stdout",
     "output_type": "stream",
     "text": [
      "(8549248, 18)\n"
     ]
    }
   ],
   "source": [
    "# Initialize an empty DataFrame to collect chunks\n",
    "df_chunks = []\n",
    "\n",
    "# Load the data in chunks\n",
    "for chunk in pd.read_csv('combined_data4.csv', chunksize=2000):\n",
    "    df_chunks.append(chunk)\n",
    "\n",
    "# Concatenate all chunks into a single DataFrame\n",
    "df4 = pd.concat(df_chunks, ignore_index=True)\n",
    "\n",
    "print(df4.shape)"
   ]
  },
  {
   "cell_type": "code",
   "execution_count": 21,
   "id": "79fd5aeb",
   "metadata": {},
   "outputs": [
    {
     "name": "stdout",
     "output_type": "stream",
     "text": [
      "   Gender                           Race VeteranStatus    DisabilityStatus  \\\n",
      "0  Female  American Indian/Alaska Native   Not Veteran  Without Disability   \n",
      "1  Female  American Indian/Alaska Native   Not Veteran  Without Disability   \n",
      "2  Female  American Indian/Alaska Native   Not Veteran  Without Disability   \n",
      "3  Female  American Indian/Alaska Native   Not Veteran  Without Disability   \n",
      "4  Female  American Indian/Alaska Native   Not Veteran  Without Disability   \n",
      "\n",
      "  EmploymentStatus IndustrySector OccupancyStatus MortgageStatus  \\\n",
      "0         Employed    Agriculture  Owner-occupied  With Mortgage   \n",
      "1         Employed    Agriculture  Owner-occupied  With Mortgage   \n",
      "2         Employed    Agriculture  Owner-occupied  With Mortgage   \n",
      "3         Employed    Agriculture  Owner-occupied  With Mortgage   \n",
      "4         Employed    Agriculture  Owner-occupied  With Mortgage   \n",
      "\n",
      "  TotalHouseholdIncome         HealthCoverage    HighestEducationLevel  Count  \\\n",
      "0    $150,000-$199,999  With Health Insurance     High school graduate      1   \n",
      "1     $200,000 or more  With Health Insurance        Bachelor's degree      1   \n",
      "2      $35,000-$49,999  With Health Insurance        Bachelor's degree      1   \n",
      "3      $50,000-$74,999  With Health Insurance     High school graduate      1   \n",
      "4      $50,000-$74,999  With Health Insurance  Some college, no degree      1   \n",
      "\n",
      "         State LeadingParty  LeadSum    LeadAvg TargetParty  TargetVotes  \n",
      "0  SouthDakota   Republican       61  20.333333  Republican    1781421.0  \n",
      "1  SouthDakota   Republican       61  20.333333  Republican    1781421.0  \n",
      "2  SouthDakota   Republican       61  20.333333  Republican    1781421.0  \n",
      "3  SouthDakota   Republican       61  20.333333  Republican    1781421.0  \n",
      "4  SouthDakota   Republican       61  20.333333  Republican    1781421.0  \n"
     ]
    }
   ],
   "source": [
    "print(df4.head())"
   ]
  },
  {
   "cell_type": "code",
   "execution_count": 22,
   "id": "db34a43f",
   "metadata": {},
   "outputs": [
    {
     "name": "stdout",
     "output_type": "stream",
     "text": [
      "Columns in the DataFrame: Index(['Gender', 'Race', 'VeteranStatus', 'DisabilityStatus',\n",
      "       'EmploymentStatus', 'IndustrySector', 'OccupancyStatus',\n",
      "       'MortgageStatus', 'TotalHouseholdIncome', 'HealthCoverage',\n",
      "       'HighestEducationLevel', 'Count', 'State', 'LeadingParty', 'LeadSum',\n",
      "       'LeadAvg', 'TargetParty', 'TargetVotes'],\n",
      "      dtype='object')\n"
     ]
    }
   ],
   "source": [
    "print(\"Columns in the DataFrame:\", df4.columns)"
   ]
  },
  {
   "cell_type": "code",
   "execution_count": 23,
   "id": "30876283",
   "metadata": {},
   "outputs": [
    {
     "name": "stdout",
     "output_type": "stream",
     "text": [
      "Number of null values in each column:\n",
      "Gender                   0\n",
      "Race                     0\n",
      "VeteranStatus            0\n",
      "DisabilityStatus         0\n",
      "EmploymentStatus         0\n",
      "IndustrySector           0\n",
      "OccupancyStatus          0\n",
      "MortgageStatus           0\n",
      "TotalHouseholdIncome     0\n",
      "HealthCoverage           0\n",
      "HighestEducationLevel    0\n",
      "Count                    0\n",
      "State                    0\n",
      "LeadingParty             0\n",
      "LeadSum                  0\n",
      "LeadAvg                  0\n",
      "TargetParty              0\n",
      "TargetVotes              0\n",
      "dtype: int64\n"
     ]
    }
   ],
   "source": [
    "print(\"Number of null values in each column:\")\n",
    "print(df4.isnull().sum())"
   ]
  },
  {
   "cell_type": "code",
   "execution_count": 24,
   "id": "7fefe209",
   "metadata": {},
   "outputs": [
    {
     "name": "stdout",
     "output_type": "stream",
     "text": [
      "Descriptive statistics:\n",
      "         Gender     Race VeteranStatus    DisabilityStatus EmploymentStatus  \\\n",
      "count   8549248  8549248       8549248             8549248          8549248   \n",
      "unique        2        7             1                   1                1   \n",
      "top      Female    White   Not Veteran  Without Disability         Employed   \n",
      "freq    4286689  4480220       8549248             8549248          8549248   \n",
      "mean        NaN      NaN           NaN                 NaN              NaN   \n",
      "std         NaN      NaN           NaN                 NaN              NaN   \n",
      "min         NaN      NaN           NaN                 NaN              NaN   \n",
      "25%         NaN      NaN           NaN                 NaN              NaN   \n",
      "50%         NaN      NaN           NaN                 NaN              NaN   \n",
      "75%         NaN      NaN           NaN                 NaN              NaN   \n",
      "max         NaN      NaN           NaN                 NaN              NaN   \n",
      "\n",
      "                  IndustrySector OccupancyStatus MortgageStatus  \\\n",
      "count                    8549248         8549248        8549248   \n",
      "unique                        13               1              2   \n",
      "top     Education and Healthcare  Owner-occupied  With Mortgage   \n",
      "freq                     1555948         8549248        4895117   \n",
      "mean                         NaN             NaN            NaN   \n",
      "std                          NaN             NaN            NaN   \n",
      "min                          NaN             NaN            NaN   \n",
      "25%                          NaN             NaN            NaN   \n",
      "50%                          NaN             NaN            NaN   \n",
      "75%                          NaN             NaN            NaN   \n",
      "max                          NaN             NaN            NaN   \n",
      "\n",
      "       TotalHouseholdIncome         HealthCoverage HighestEducationLevel  \\\n",
      "count               8549248                8549248               8549248   \n",
      "unique                   10                      2                     7   \n",
      "top         $50,000-$74,999  With Health Insurance  High school graduate   \n",
      "freq                1644766                8207164               2149040   \n",
      "mean                    NaN                    NaN                   NaN   \n",
      "std                     NaN                    NaN                   NaN   \n",
      "min                     NaN                    NaN                   NaN   \n",
      "25%                     NaN                    NaN                   NaN   \n",
      "50%                     NaN                    NaN                   NaN   \n",
      "75%                     NaN                    NaN                   NaN   \n",
      "max                     NaN                    NaN                   NaN   \n",
      "\n",
      "               Count    State LeadingParty       LeadSum       LeadAvg  \\\n",
      "count   8.549248e+06  8549248      8549248  8.549248e+06  8.549248e+06   \n",
      "unique           NaN       10            2           NaN           NaN   \n",
      "top              NaN    Texas   Republican           NaN           NaN   \n",
      "freq             NaN  3951495      5661700           NaN           NaN   \n",
      "mean    1.338586e+00      NaN          NaN  3.245779e+02  1.047326e+01   \n",
      "std     8.922245e-01      NaN          NaN  1.315407e+02  7.213158e+00   \n",
      "min     1.000000e+00      NaN          NaN  1.700000e+01  3.327273e+00   \n",
      "25%     1.000000e+00      NaN          NaN  2.370000e+02  7.518519e+00   \n",
      "50%     1.000000e+00      NaN          NaN  4.060000e+02  7.518519e+00   \n",
      "75%     1.000000e+00      NaN          NaN  4.060000e+02  1.108333e+01   \n",
      "max     3.300000e+01      NaN          NaN  5.490000e+02  2.940000e+01   \n",
      "\n",
      "       TargetParty   TargetVotes  \n",
      "count      8549248  8.549248e+06  \n",
      "unique           2           NaN  \n",
      "top     Republican           NaN  \n",
      "freq       7331475           NaN  \n",
      "mean           NaN  1.906803e+07  \n",
      "std            NaN  9.026104e+06  \n",
      "min            NaN  1.454434e+06  \n",
      "25%            NaN  1.070342e+07  \n",
      "50%            NaN  2.092637e+07  \n",
      "75%            NaN  2.092637e+07  \n",
      "max            NaN  3.474466e+07  \n"
     ]
    }
   ],
   "source": [
    "print(\"Descriptive statistics:\")\n",
    "print(df4.describe(include='all'))  # Include all columns (numerical and categorical)"
   ]
  },
  {
   "cell_type": "code",
   "execution_count": 25,
   "id": "26675ee6",
   "metadata": {},
   "outputs": [
    {
     "name": "stdout",
     "output_type": "stream",
     "text": [
      "Number of duplicate rows: 8220699\n",
      "Percentage of duplicate rows: 96.16%\n"
     ]
    }
   ],
   "source": [
    "import pandas as pd\n",
    "\n",
    "# Assuming df is your DataFrame\n",
    "def check_duplicates(df4):\n",
    "    # Count the number of duplicate rows\n",
    "    num_duplicates = df4.duplicated().sum()\n",
    "    \n",
    "    # Calculate the percentage of duplicate rows\n",
    "    percentage_duplicates = (num_duplicates / len(df4)) * 100\n",
    "    \n",
    "    # Print the results\n",
    "    print(f\"Number of duplicate rows: {num_duplicates}\")\n",
    "    print(f\"Percentage of duplicate rows: {percentage_duplicates:.2f}%\")\n",
    "    \n",
    "# Call the function\n",
    "check_duplicates(df4)\n"
   ]
  },
  {
   "cell_type": "code",
   "execution_count": 26,
   "id": "91461cef",
   "metadata": {},
   "outputs": [
    {
     "name": "stdout",
     "output_type": "stream",
     "text": [
      "(3025539, 18)\n"
     ]
    }
   ],
   "source": [
    "# Initialize an empty DataFrame to collect chunks\n",
    "df_chunks = []\n",
    "\n",
    "# Load the data in chunks\n",
    "for chunk in pd.read_csv('combined_data5.csv', chunksize=2000):\n",
    "    df_chunks.append(chunk)\n",
    "\n",
    "# Concatenate all chunks into a single DataFrame\n",
    "df5 = pd.concat(df_chunks, ignore_index=True)\n",
    "\n",
    "print(df5.shape)"
   ]
  },
  {
   "cell_type": "code",
   "execution_count": 27,
   "id": "6578e0c4",
   "metadata": {},
   "outputs": [
    {
     "name": "stdout",
     "output_type": "stream",
     "text": [
      "   Gender                           Race VeteranStatus    DisabilityStatus  \\\n",
      "0  Female  American Indian/Alaska Native   Not Veteran  Without Disability   \n",
      "1  Female                          Asian   Not Veteran  Without Disability   \n",
      "2  Female                          Asian   Not Veteran  Without Disability   \n",
      "3  Female                          Asian   Not Veteran  Without Disability   \n",
      "4  Female                          Asian   Not Veteran  Without Disability   \n",
      "\n",
      "  EmploymentStatus          IndustrySector OccupancyStatus MortgageStatus  \\\n",
      "0         Employed  Arts and Entertainment  Owner-occupied  With Mortgage   \n",
      "1         Employed             Agriculture  Owner-occupied  With Mortgage   \n",
      "2         Employed             Agriculture  Owner-occupied  With Mortgage   \n",
      "3         Employed             Agriculture  Owner-occupied  With Mortgage   \n",
      "4         Employed             Agriculture  Owner-occupied  With Mortgage   \n",
      "\n",
      "  TotalHouseholdIncome         HealthCoverage          HighestEducationLevel  \\\n",
      "0      $50,000-$74,999  With Health Insurance  9th to 12th grade, no diploma   \n",
      "1     $200,000 or more    No Health Insurance             Associate's degree   \n",
      "2     $200,000 or more  With Health Insurance        Some college, no degree   \n",
      "3      $25,000-$34,999  With Health Insurance              Bachelor's degree   \n",
      "4      $35,000-$49,999  With Health Insurance           High school graduate   \n",
      "\n",
      "   Count   State LeadingParty  LeadSum  LeadAvg TargetParty  TargetVotes  \n",
      "0      1  Hawaii     Democrat       27     13.5  Democratic    6975977.0  \n",
      "1      1  Hawaii     Democrat       27     13.5  Democratic    6975977.0  \n",
      "2      1  Hawaii     Democrat       27     13.5  Democratic    6975977.0  \n",
      "3      2  Hawaii     Democrat       27     13.5  Democratic    6975977.0  \n",
      "4      1  Hawaii     Democrat       27     13.5  Democratic    6975977.0  \n"
     ]
    }
   ],
   "source": [
    "print(df5.head())"
   ]
  },
  {
   "cell_type": "code",
   "execution_count": 28,
   "id": "3e26d947",
   "metadata": {},
   "outputs": [
    {
     "name": "stdout",
     "output_type": "stream",
     "text": [
      "Columns in the DataFrame: Index(['Gender', 'Race', 'VeteranStatus', 'DisabilityStatus',\n",
      "       'EmploymentStatus', 'IndustrySector', 'OccupancyStatus',\n",
      "       'MortgageStatus', 'TotalHouseholdIncome', 'HealthCoverage',\n",
      "       'HighestEducationLevel', 'Count', 'State', 'LeadingParty', 'LeadSum',\n",
      "       'LeadAvg', 'TargetParty', 'TargetVotes'],\n",
      "      dtype='object')\n"
     ]
    }
   ],
   "source": [
    "print(\"Columns in the DataFrame:\", df5.columns)"
   ]
  },
  {
   "cell_type": "code",
   "execution_count": 29,
   "id": "a47a89e8",
   "metadata": {},
   "outputs": [
    {
     "name": "stdout",
     "output_type": "stream",
     "text": [
      "Number of null values in each column:\n",
      "Gender                   0\n",
      "Race                     0\n",
      "VeteranStatus            0\n",
      "DisabilityStatus         0\n",
      "EmploymentStatus         0\n",
      "IndustrySector           0\n",
      "OccupancyStatus          0\n",
      "MortgageStatus           0\n",
      "TotalHouseholdIncome     0\n",
      "HealthCoverage           0\n",
      "HighestEducationLevel    0\n",
      "Count                    0\n",
      "State                    0\n",
      "LeadingParty             0\n",
      "LeadSum                  0\n",
      "LeadAvg                  0\n",
      "TargetParty              0\n",
      "TargetVotes              0\n",
      "dtype: int64\n"
     ]
    }
   ],
   "source": [
    "print(\"Number of null values in each column:\")\n",
    "print(df5.isnull().sum())"
   ]
  },
  {
   "cell_type": "code",
   "execution_count": 30,
   "id": "5042c425",
   "metadata": {},
   "outputs": [
    {
     "name": "stdout",
     "output_type": "stream",
     "text": [
      "Descriptive statistics:\n",
      "         Gender     Race VeteranStatus    DisabilityStatus EmploymentStatus  \\\n",
      "count   3025539  3025539       3025539             3025539          3025539   \n",
      "unique        2        7             1                   1                1   \n",
      "top      Female    White   Not Veteran  Without Disability         Employed   \n",
      "freq    1525933  1897218       3025539             3025539          3025539   \n",
      "mean        NaN      NaN           NaN                 NaN              NaN   \n",
      "std         NaN      NaN           NaN                 NaN              NaN   \n",
      "min         NaN      NaN           NaN                 NaN              NaN   \n",
      "25%         NaN      NaN           NaN                 NaN              NaN   \n",
      "50%         NaN      NaN           NaN                 NaN              NaN   \n",
      "75%         NaN      NaN           NaN                 NaN              NaN   \n",
      "max         NaN      NaN           NaN                 NaN              NaN   \n",
      "\n",
      "                  IndustrySector OccupancyStatus MortgageStatus  \\\n",
      "count                    3025539         3025539        3025539   \n",
      "unique                        13               1              2   \n",
      "top     Education and Healthcare  Owner-occupied  With Mortgage   \n",
      "freq                      544193         3025539        1774202   \n",
      "mean                         NaN             NaN            NaN   \n",
      "std                          NaN             NaN            NaN   \n",
      "min                          NaN             NaN            NaN   \n",
      "25%                          NaN             NaN            NaN   \n",
      "50%                          NaN             NaN            NaN   \n",
      "75%                          NaN             NaN            NaN   \n",
      "max                          NaN             NaN            NaN   \n",
      "\n",
      "       TotalHouseholdIncome         HealthCoverage HighestEducationLevel  \\\n",
      "count               3025539                3025539               3025539   \n",
      "unique                   10                      2                     7   \n",
      "top         $50,000-$74,999  With Health Insurance  High school graduate   \n",
      "freq                 527338                2884773                787948   \n",
      "mean                    NaN                    NaN                   NaN   \n",
      "std                     NaN                    NaN                   NaN   \n",
      "min                     NaN                    NaN                   NaN   \n",
      "25%                     NaN                    NaN                   NaN   \n",
      "50%                     NaN                    NaN                   NaN   \n",
      "75%                     NaN                    NaN                   NaN   \n",
      "max                     NaN                    NaN                   NaN   \n",
      "\n",
      "               Count     State LeadingParty       LeadSum       LeadAvg  \\\n",
      "count   3.025539e+06   3025539      3025539  3.025539e+06  3.025539e+06   \n",
      "unique           NaN        10            2           NaN           NaN   \n",
      "top              NaN  Maryland   Republican           NaN           NaN   \n",
      "freq             NaN    748800      1982557           NaN           NaN   \n",
      "mean    1.594848e+00       NaN          NaN  1.546763e+02  1.543696e+01   \n",
      "std     1.846854e+00       NaN          NaN  2.150998e+02  7.448859e+00   \n",
      "min     1.000000e+00       NaN          NaN  2.000000e+00  2.000000e+00   \n",
      "25%     1.000000e+00       NaN          NaN  1.600000e+01  1.028571e+01   \n",
      "50%     1.000000e+00       NaN          NaN  4.400000e+01  1.466667e+01   \n",
      "75%     2.000000e+00       NaN          NaN  9.400000e+01  2.200000e+01   \n",
      "max     9.600000e+01       NaN          NaN  5.280000e+02  2.514286e+01   \n",
      "\n",
      "       TargetParty   TargetVotes  \n",
      "count      3025539  3.025539e+06  \n",
      "unique           2           NaN  \n",
      "top     Republican           NaN  \n",
      "freq       1982557           NaN  \n",
      "mean           NaN  1.097309e+07  \n",
      "std            NaN  4.823794e+06  \n",
      "min            NaN  2.128961e+06  \n",
      "25%            NaN  6.860393e+06  \n",
      "50%            NaN  9.755742e+06  \n",
      "75%            NaN  1.394195e+07  \n",
      "max            NaN  1.825487e+07  \n"
     ]
    }
   ],
   "source": [
    "print(\"Descriptive statistics:\")\n",
    "print(df5.describe(include='all'))  # Include all columns (numerical and categorical)"
   ]
  },
  {
   "cell_type": "code",
   "execution_count": 31,
   "id": "55e044f4",
   "metadata": {},
   "outputs": [
    {
     "name": "stdout",
     "output_type": "stream",
     "text": [
      "Number of duplicate rows: 2793762\n",
      "Percentage of duplicate rows: 92.34%\n"
     ]
    }
   ],
   "source": [
    "import pandas as pd\n",
    "\n",
    "# Assuming df is your DataFrame\n",
    "def check_duplicates(df5):\n",
    "    # Count the number of duplicate rows\n",
    "    num_duplicates = df5.duplicated().sum()\n",
    "    \n",
    "    # Calculate the percentage of duplicate rows\n",
    "    percentage_duplicates = (num_duplicates / len(df5)) * 100\n",
    "    \n",
    "    # Print the results\n",
    "    print(f\"Number of duplicate rows: {num_duplicates}\")\n",
    "    print(f\"Percentage of duplicate rows: {percentage_duplicates:.2f}%\")\n",
    "    \n",
    "# Call the function\n",
    "check_duplicates(df5)\n"
   ]
  },
  {
   "cell_type": "code",
   "execution_count": 32,
   "id": "d3a81b58",
   "metadata": {},
   "outputs": [
    {
     "name": "stdout",
     "output_type": "stream",
     "text": [
      "(5573130, 18) (14810144, 18) (11540078, 18) (8549248, 18) (3025539, 18)\n"
     ]
    }
   ],
   "source": [
    "print(df.shape, df2.shape, df3.shape, df4.shape, df5.shape)"
   ]
  },
  {
   "cell_type": "markdown",
   "id": "8d1f2c28",
   "metadata": {},
   "source": [
    "import pandas as pd\n",
    "\n",
    "# Set a chunk size (adjust based on available memory)\n",
    "chunksize = 20000000  # Adjust this value based on your memory capacity\n",
    "\n",
    "# Create an empty CSV file with headers from one of the dataframes\n",
    "df = pd.DataFrame()  # Assuming you have the first dataframe in memory\n",
    "df.iloc[:0].to_csv('concatenated_data.csv', index=False)\n",
    "\n",
    "# Concatenate each dataframe in chunks\n",
    "for start in range(0, max(len(df), len(df2), len(df3), len(df4), len(df5)), chunksize):\n",
    "    chunk_list = []\n",
    "    \n",
    "    # Append chunks for each dataframe\n",
    "    if start < len(df):\n",
    "        chunk1 = df.iloc[start:start + chunksize]  # Corrected from df1 to df\n",
    "        print(f\"Chunk from df shape: {chunk1.shape}\")  # Optional: for debugging\n",
    "        chunk_list.append(chunk1)\n",
    "    if start < len(df2):\n",
    "        chunk2 = df2.iloc[start:start + chunksize]\n",
    "        print(f\"Chunk from df2 shape: {chunk2.shape}\")  # Optional: for debugging\n",
    "        chunk_list.append(chunk2)\n",
    "    if start < len(df3):\n",
    "        chunk3 = df3.iloc[start:start + chunksize]\n",
    "        print(f\"Chunk from df3 shape: {chunk3.shape}\")  # Optional: for debugging\n",
    "        chunk_list.append(chunk3)\n",
    "    if start < len(df4):\n",
    "        chunk4 = df4.iloc[start:start + chunksize]\n",
    "        print(f\"Chunk from df4 shape: {chunk4.shape}\")  # Optional: for debugging\n",
    "        chunk_list.append(chunk4)\n",
    "    if start < len(df5):\n",
    "        chunk5 = df5.iloc[start:start + chunksize]\n",
    "        print(f\"Chunk from df5 shape: {chunk5.shape}\")  # Optional: for debugging\n",
    "        chunk_list.append(chunk5)\n",
    "    \n",
    "    # Concatenate vertically\n",
    "    if chunk_list:  # Only concatenate if there are chunks to concatenate\n",
    "        concatenated_chunk = pd.concat(chunk_list, ignore_index=True)\n",
    "        print(f\"Concatenated chunk shape: {concatenated_chunk.shape}\")  # Optional: for debugging\n",
    "        \n",
    "        # Append to CSV file\n",
    "        concatenated_chunk.to_csv('concatenated_data.csv', mode='a', header=False, index=False)\n",
    "\n",
    "print(\"Concatenation complete!\")\n",
    "print(concatenated_chunk.shape)"
   ]
  },
  {
   "cell_type": "code",
   "execution_count": 35,
   "id": "3489a7a5",
   "metadata": {},
   "outputs": [
    {
     "name": "stdout",
     "output_type": "stream",
     "text": [
      "Concatenation complete! Total rows: 43498139\n"
     ]
    }
   ],
   "source": [
    "# Concatenate all DataFrames vertically\n",
    "all_data = pd.concat([df, df2, df3, df4, df5], ignore_index=True)\n",
    "\n",
    "# Save to CSV\n",
    "all_data.to_csv('all_data_concatenated.csv', index=False)\n",
    "\n",
    "print(\"Concatenation complete! Total rows:\", all_data.shape[0])"
   ]
  },
  {
   "cell_type": "code",
   "execution_count": null,
   "id": "7a0f22e7",
   "metadata": {},
   "outputs": [],
   "source": []
  },
  {
   "cell_type": "code",
   "execution_count": null,
   "id": "e56d7cba",
   "metadata": {},
   "outputs": [],
   "source": []
  }
 ],
 "metadata": {
  "kernelspec": {
   "display_name": "Python 3 (ipykernel)",
   "language": "python",
   "name": "python3"
  },
  "language_info": {
   "codemirror_mode": {
    "name": "ipython",
    "version": 3
   },
   "file_extension": ".py",
   "mimetype": "text/x-python",
   "name": "python",
   "nbconvert_exporter": "python",
   "pygments_lexer": "ipython3",
   "version": "3.9.7"
  }
 },
 "nbformat": 4,
 "nbformat_minor": 5
}
